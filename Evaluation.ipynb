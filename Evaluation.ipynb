{
 "cells": [
  {
   "cell_type": "markdown",
   "metadata": {},
   "source": [
    "# 전처리 모듈 추가"
   ]
  },
  {
   "cell_type": "code",
   "execution_count": 33,
   "metadata": {},
   "outputs": [],
   "source": [
    "from sklearn import preprocessing\n",
    "#Null값 다른값으로 채우기\n",
    "def fillna(df):\n",
    "    df['Age'].fillna(df['Age'].mean(), inplace=True)\n",
    "    df['Cabin'].fillna('N', inplace=True)\n",
    "    df['Embarked'].fillna('N', inplace=True)\n",
    "    df['Fare'].fillna(0, inplace=True)\n",
    "    \n",
    "    return df\n",
    "\n",
    "#학습에 불필요한 feature 떨구기\n",
    "def drop_features(df):\n",
    "    df.drop(['PassengerId', 'Name', 'Ticket'], axis=1, inplace=True)\n",
    "    return df\n",
    "\n",
    "#레이블 인코딩 수행\n",
    "def format_features(df):\n",
    "    df['Cabin'] = df['Cabin'].str[:1]\n",
    "    features = ['Cabin', 'Sex', 'Embarked']\n",
    "    for feature in features:\n",
    "        le = preprocessing.LabelEncoder()\n",
    "        le = le.fit(df[feature])\n",
    "        df[feature] = le.transform(df[feature])\n",
    "        \n",
    "    return df\n",
    "\n",
    "#위의 3가지 데이터 전처리 함수를 호출하는 핸들링 함수\n",
    "def transform_features(df):\n",
    "    df = fillna(df)\n",
    "    df = drop_features(df)\n",
    "    df = format_features(df)\n",
    "    return df"
   ]
  },
  {
   "cell_type": "markdown",
   "metadata": {},
   "source": [
    "# 평가 "
   ]
  },
  {
   "cell_type": "markdown",
   "metadata": {},
   "source": [
    "# 1. 정확도(Accuracy)\n",
    "<p> : 정확도 = (예측 결과가 동일한 데이터 건수) / (전체 예측 데이터 건수) </p>\n",
    "<p> 맹점> </p>\n",
    "<p> 데이터 값의 레이블 값이 균일하지 못하고 한쪽으로 치우쳐진 데이터의 경우, 해당 데이터로만 예측하는 분류기가 있다고 하면 해당 분류기는 학습을 진행하지 않고도 매우 높은 정확도를 보일 것이다. 따라서 이를 가릴 다른 평가지표가 필요하다. </p>"
   ]
  },
  {
   "cell_type": "markdown",
   "metadata": {},
   "source": [
    "## C.f) Classifier 커스터마이징\n",
    "### : BaseEstimator를 상속받으면, Customized 형태의 Estimator를 개발자가 생성할 수 있다."
   ]
  },
  {
   "cell_type": "code",
   "execution_count": 34,
   "metadata": {},
   "outputs": [],
   "source": [
    "from sklearn.base import BaseEstimator\n",
    "import numpy as np\n",
    "\n",
    "class MyDummyClassifier(BaseEstimator):\n",
    "    #아무것도 하지 않는 fit()\n",
    "    def fit(self, X, y=None):\n",
    "        pass\n",
    "    def predict(self, X):\n",
    "        pred = np.zeros((X.shape[0], 1))\n",
    "        for i in range(X.shape[0]):\n",
    "            if X['Sex'].iloc[i] == 1: #남성인 경우, 무조건 사망으로 예측하도록 함\n",
    "                pred[i] = 0\n",
    "            else:\n",
    "                pred[i] = 1\n",
    "        return pred"
   ]
  },
  {
   "cell_type": "code",
   "execution_count": 35,
   "metadata": {},
   "outputs": [
    {
     "name": "stdout",
     "output_type": "stream",
     "text": [
      "Dummy Classifier의 정확도 : 0.7877\n"
     ]
    }
   ],
   "source": [
    "import pandas as pd\n",
    "from sklearn.model_selection import train_test_split\n",
    "from sklearn.metrics import accuracy_score\n",
    "\n",
    "titanic_df = pd.read_csv('Kaggle_Ex/titanic/train.csv')\n",
    "y_titanic_df = titanic_df['Survived']\n",
    "X_titanic_df = titanic_df.drop('Survived', axis=1)\n",
    "X_titanic_df = transform_features(X_titanic_df)\n",
    "X_train, X_test, y_train, y_test = train_test_split(X_titanic_df, y_titanic_df, test_size=0.2, random_state=0)\n",
    "\n",
    "#위에서 새로 정의한 MyDummyClassifier를 이용해 학습을 진행\n",
    "myclf = MyDummyClassifier()\n",
    "myclf.fit(X_train, y_train)\n",
    "\n",
    "mypred = myclf.predict(X_test)\n",
    "\n",
    "print('Dummy Classifier의 정확도 : {0:.4f}'.format(accuracy_score(y_test, mypred)))"
   ]
  },
  {
   "cell_type": "markdown",
   "metadata": {},
   "source": [
    "단순히 남성인 경우 무조건 사망(0)으로 예측하도록 했음에도 불구하고, 정확도가 78%가 나왔다. 따라서 이 경우, 정확도는 이 데이터에서 학습알고리즘을 평가할 지표가 될 수 없음을 의미한다. 다른 방법으로 평가를 진행해야한다."
   ]
  },
  {
   "cell_type": "markdown",
   "metadata": {},
   "source": [
    "# 2. 오차 행렬"
   ]
  },
  {
   "cell_type": "code",
   "execution_count": 36,
   "metadata": {},
   "outputs": [
    {
     "data": {
      "text/plain": [
       "array([[92, 18],\n",
       "       [20, 49]])"
      ]
     },
     "execution_count": 36,
     "metadata": {},
     "output_type": "execute_result"
    }
   ],
   "source": [
    "from sklearn.metrics import confusion_matrix\n",
    "\n",
    "confusion_matrix(y_test, mypred)"
   ]
  },
  {
   "cell_type": "markdown",
   "metadata": {},
   "source": [
    "confusion_matrix를 이용해 y_test와 \"예측값\"을 통해 구한 오차행렬을 행렬값으로 얻을 수 있다."
   ]
  },
  {
   "cell_type": "markdown",
   "metadata": {},
   "source": [
    "## - 정밀도(Precision)와 재현율(Recall)\n",
    "* 정밀도 = TP / (FP + TP) <br>\n",
    "=> 예측을 positive로 한 대상(FP+TP) 중에 예측과 실제 값이 positive로 일치(TP)한 데이터의 비율 <br>\n",
    "<strong> 중요) 실제 Negative 인 데이터 에측을 positive로 잘못 판단하면 큰일 나는 경우 </strong><br>\n",
    "* 재현율 = TP / (FN + TP) <br>\n",
    "=> 실제 positive인 대상(FP+TP) 중에 예측과 실제 값이 positive로 일치(TP)한 데이터의 비율 <br>\n",
    "<strong> 중요) 실제 positive 인 데이터 에측을 Negative로 잘못 판단하면 큰일 나는 경우에 상대적으로 중요해진다. </strong>"
   ]
  },
  {
   "cell_type": "code",
   "execution_count": 37,
   "metadata": {},
   "outputs": [],
   "source": [
    "from sklearn.metrics import accuracy_score, precision_score, recall_score, confusion_matrix\n",
    "\n",
    "def get_clf_eval(y_test, pred):\n",
    "    confusion = confusion_matrix(y_test, pred)\n",
    "    accuracy = accuracy_score(y_test, pred)\n",
    "    precision = precision_score(y_test, pred)\n",
    "    recall = recall_score(y_test, pred)\n",
    "    print('오차행렬')\n",
    "    print(confusion)\n",
    "    print('정확도 : {0:.4f}, 정밀도 : {1:.4f}, 재현율 : {2:.4f}'.format(accuracy, precision, recall))"
   ]
  },
  {
   "cell_type": "code",
   "execution_count": 38,
   "metadata": {},
   "outputs": [
    {
     "name": "stdout",
     "output_type": "stream",
     "text": [
      "오차행렬\n",
      "[[92 18]\n",
      " [16 53]]\n",
      "정확도 : 0.8101, 정밀도 : 0.7465, 재현율 : 0.7681\n"
     ]
    }
   ],
   "source": [
    "import pandas as pd\n",
    "from sklearn.model_selection import train_test_split\n",
    "from sklearn.linear_model import LogisticRegression #로지스틱 회귀 기반으로 학습을 진행한다.\n",
    "\n",
    "itanic_df = pd.read_csv('Kaggle_Ex/titanic/train.csv')\n",
    "y_titanic_df = titanic_df['Survived']\n",
    "X_titanic_df = titanic_df.drop('Survived', axis=1)\n",
    "X_titanic_df = transform_features(X_titanic_df)\n",
    "X_train, X_test, y_train, y_test = train_test_split(X_titanic_df, y_titanic_df, test_size=0.2, random_state=0)\n",
    "\n",
    "lr_clf = LogisticRegression(max_iter = 1000)\n",
    "\n",
    "lr_clf.fit(X_train, y_train)\n",
    "pred = lr_clf.predict(X_test)\n",
    "get_clf_eval(y_test, pred)"
   ]
  },
  {
   "cell_type": "markdown",
   "metadata": {},
   "source": [
    "## - 정밀도, 재현율의 Trade-Off\n",
    "둘은 상호보완적 관계로 한쪽이 오르면 한쪽은 감소하므로 임계값을 잘 조정하여 둘 모두가 최대로 높아지는 값을 찾아야한다."
   ]
  },
  {
   "cell_type": "code",
   "execution_count": 39,
   "metadata": {},
   "outputs": [
    {
     "name": "stdout",
     "output_type": "stream",
     "text": [
      "pred_proba() 결과 shape : (179, 2)\n",
      "pred_proba array에서 앞 5개만 샘플로 추출\n",
      " [[0.85372915 0.14627085]\n",
      " [0.89030403 0.10969597]\n",
      " [0.92560373 0.07439627]\n",
      " [0.05781867 0.94218133]\n",
      " [0.32140991 0.67859009]]\n",
      "두 개의 class 중에서 더 큰 확률을 클래스 값으로 예측\n",
      " [[0.85372915 0.14627085 0.        ]\n",
      " [0.89030403 0.10969597 0.        ]\n",
      " [0.92560373 0.07439627 0.        ]\n",
      " [0.05781867 0.94218133 1.        ]\n",
      " [0.32140991 0.67859009 1.        ]]\n"
     ]
    }
   ],
   "source": [
    "pred_proba = lr_clf.predict_proba(X_test) #테스트 데이터 별로 0, 1로 예측한 결과를 확률로 보여준다.\n",
    "pred = lr_clf.predict(X_test)\n",
    "print('pred_proba() 결과 shape : {0}'.format(pred_proba.shape))\n",
    "print('pred_proba array에서 앞 5개만 샘플로 추출\\n', pred_proba[:5])\n",
    "\n",
    "#예측확률과 결과를 함께 보여줌\n",
    "pred_proba_result = np.concatenate([pred_proba, pred.reshape(-1, 1)], axis=1)\n",
    "print('두 개의 class 중에서 더 큰 확률을 클래스 값으로 예측\\n', pred_proba_result[:5])"
   ]
  },
  {
   "cell_type": "markdown",
   "metadata": {},
   "source": [
    "임계값을 임의로 설정하기 위해 Binarizer 클래스를 이용한다. <br>\n",
    "Binarizer 클래스는 input(행렬)의 각 값이 임계값보다 같거나 작으면 0, 크면 1을 반환한다."
   ]
  },
  {
   "cell_type": "code",
   "execution_count": 40,
   "metadata": {},
   "outputs": [
    {
     "name": "stdout",
     "output_type": "stream",
     "text": [
      "오차행렬\n",
      "[[92 18]\n",
      " [16 53]]\n",
      "정확도 : 0.8101, 정밀도 : 0.7465, 재현율 : 0.7681\n"
     ]
    }
   ],
   "source": [
    "from sklearn.preprocessing import Binarizer\n",
    "\n",
    "#임계값 설정\n",
    "custom_threshold = 0.5\n",
    "\n",
    "#predict_proba() 반환값의 두번째 칼럼(1로 예측한 확률)만을 추출해 Binarizer를 적용해 최종 예측값을 구한다.\n",
    "pred_proba_1 = pred_proba[:, 1].reshape(-1, 1)\n",
    "\n",
    "binarizer = Binarizer(threshold=custom_threshold).fit(pred_proba_1)\n",
    "custom_predict = binarizer.transform(pred_proba_1)\n",
    "\n",
    "get_clf_eval(y_test, custom_predict) #임계값을 0.5로 설정 후 테스트 데이터와 비교한다."
   ]
  },
  {
   "cell_type": "markdown",
   "metadata": {},
   "source": [
    "임계값이 0.5일 때, 임계값 설정없이 predict 했을 때와 정확히 결과가 동일함을 확인할 수 있다. <br>\n",
    "이로부터 기본 임계값은 0.5임을 확인할 수 있다."
   ]
  },
  {
   "cell_type": "code",
   "execution_count": 41,
   "metadata": {},
   "outputs": [
    {
     "name": "stdout",
     "output_type": "stream",
     "text": [
      "<임계값 : 0.1>\n",
      "오차행렬\n",
      "[[19 91]\n",
      " [ 3 66]]\n",
      "정확도 : 0.4749, 정밀도 : 0.4204, 재현율 : 0.9565\n",
      "<임계값 : 0.2>\n",
      "오차행렬\n",
      "[[69 41]\n",
      " [ 6 63]]\n",
      "정확도 : 0.7374, 정밀도 : 0.6058, 재현율 : 0.9130\n",
      "<임계값 : 0.3>\n",
      "오차행렬\n",
      "[[82 28]\n",
      " [10 59]]\n",
      "정확도 : 0.7877, 정밀도 : 0.6782, 재현율 : 0.8551\n",
      "<임계값 : 0.4>\n",
      "오차행렬\n",
      "[[86 24]\n",
      " [13 56]]\n",
      "정확도 : 0.7933, 정밀도 : 0.7000, 재현율 : 0.8116\n",
      "<임계값 : 0.5>\n",
      "오차행렬\n",
      "[[92 18]\n",
      " [16 53]]\n",
      "정확도 : 0.8101, 정밀도 : 0.7465, 재현율 : 0.7681\n",
      "<임계값 : 0.6>\n",
      "오차행렬\n",
      "[[99 11]\n",
      " [25 44]]\n",
      "정확도 : 0.7989, 정밀도 : 0.8000, 재현율 : 0.6377\n",
      "<임계값 : 0.7>\n",
      "오차행렬\n",
      "[[106   4]\n",
      " [ 34  35]]\n",
      "정확도 : 0.7877, 정밀도 : 0.8974, 재현율 : 0.5072\n",
      "<임계값 : 0.8>\n",
      "오차행렬\n",
      "[[110   0]\n",
      " [ 39  30]]\n",
      "정확도 : 0.7821, 정밀도 : 1.0000, 재현율 : 0.4348\n",
      "<임계값 : 0.9>\n",
      "오차행렬\n",
      "[[110   0]\n",
      " [ 51  18]]\n",
      "정확도 : 0.7151, 정밀도 : 1.0000, 재현율 : 0.2609\n"
     ]
    }
   ],
   "source": [
    "#임계값 설정\n",
    "custom_threshold = [0.1, 0.2, 0.3, 0.4, 0.5, 0.6, 0.7, 0.8, 0.9]\n",
    "\n",
    "def get_eval_by_threshold(y_test, pred_proba_c1, thresholds):\n",
    "    for custom_threshold in thresholds:\n",
    "        print(\"<임계값 : {0}>\".format(custom_threshold))\n",
    "        #predict_proba() 반환값의 두번째 칼럼(1로 예측한 확률)만을 추출해 Binarizer를 적용해 최종 예측값을 구한다.\n",
    "\n",
    "        binarizer = Binarizer(threshold=custom_threshold).fit(pred_proba_c1)\n",
    "        custom_predict = binarizer.transform(pred_proba_c1)\n",
    "\n",
    "        get_clf_eval(y_test, custom_predict) #임계값을 0.5로 설정 후 테스트 데이터와 비교한다.\n",
    "        \n",
    "get_eval_by_threshold(y_test, pred_proba[:, 1].reshape(-1, 1), custom_threshold)"
   ]
  },
  {
   "cell_type": "markdown",
   "metadata": {},
   "source": [
    "임계값을 낮출수록 <strong>재현율</strong>이 올라라고, <strong>정밀도</strong>가 떨어지는 반면, <br>\n",
    "이유 -> 더 쉽게 양성으로 예측하므로 상대적으로 양성을 음성으로 예측하는 비율이 감소하기 때문에 FP가 감소하기 때문이다. <br>\n",
    "임계값을 높일수록 <strong>재현율</strong>은 떨어지고, <strong>정밀도</strong>는 올라가는 것을 확인할 수 있다. <br>\n",
    "이유 -> 양성으로 예측하기가 어려워지므로, 양성을 음성으로 예측하는 비율이 증가하므로 FP가 증가하기 때문이다. <br>"
   ]
  },
  {
   "cell_type": "markdown",
   "metadata": {},
   "source": [
    "### * precision_recall_curve()\n",
    "### 위와 같이 임계값을 바꿔가면서 정밀도와 재현율을 계산해보는 것이 이미 API로 존재하므로 이를 이용하자."
   ]
  },
  {
   "cell_type": "code",
   "execution_count": 42,
   "metadata": {},
   "outputs": [
    {
     "name": "stdout",
     "output_type": "stream",
     "text": [
      "반환된 분류 결정 임계값 배열의 shape :  (166,)\n",
      "샘플 추출을 위한 임계값 배열의 index 10개 :  [  0  15  30  45  60  75  90 105 120 135 150 165]\n",
      "샘플용 10개의 임계값 :  [0.06 0.1  0.12 0.15 0.19 0.28 0.44 0.58 0.64 0.79 0.91 0.97]\n",
      "샘플 임계값별 정밀도 :  [0.399 0.418 0.464 0.52  0.594 0.659 0.724 0.803 0.826 1.    1.    1.   ]\n",
      "샘플 임계값별 재현율 :  [1.    0.957 0.928 0.928 0.913 0.87  0.797 0.71  0.551 0.449 0.232 0.014]\n"
     ]
    }
   ],
   "source": [
    "from sklearn.metrics import precision_recall_curve\n",
    "\n",
    "#레이블값이 1일 때, 예측확률을 뽑아낸다.\n",
    "pred_proba_class1 = lr_clf.predict_proba(X_test)[:, 1]\n",
    "#precision_recall_curve() 사용 방법\n",
    "precisions, recalls, thresholds = precision_recall_curve(y_test, pred_proba_class1)\n",
    "print('반환된 분류 결정 임계값 배열의 shape : ', thresholds.shape)\n",
    "\n",
    "#반환된 임계값 배열의 로우 크기가 166이므로, 샘플로 10건만 추출하되, 임곗값을 15단계로 추출\n",
    "thr_index = np.arange(0, thresholds.shape[0], 15)\n",
    "print('샘플 추출을 위한 임계값 배열의 index 10개 : ', thr_index)\n",
    "print('샘플용 10개의 임계값 : ', np.round(thresholds[thr_index], 2))\n",
    "\n",
    "#15단계로 추출된 임계값에 따른 정밀도와 재현율\n",
    "print('샘플 임계값별 정밀도 : ', np.round(precisions[thr_index], 3))\n",
    "print('샘플 임계값별 재현율 : ', np.round(recalls[thr_index], 3))"
   ]
  },
  {
   "cell_type": "markdown",
   "metadata": {},
   "source": [
    "### 이를 시각화해보자"
   ]
  },
  {
   "cell_type": "code",
   "execution_count": 43,
   "metadata": {},
   "outputs": [
    {
     "data": {
      "image/png": "[encoded data removed]",
      "text/plain": [
       "<Figure size 576x432 with 1 Axes>"
      ]
     },
     "metadata": {
      "needs_background": "light"
     },
     "output_type": "display_data"
    }
   ],
   "source": [
    "import matplotlib.pyplot as plt\n",
    "import matplotlib.ticker as ticker\n",
    "%matplotlib inline\n",
    "\n",
    "def precision_recall_curve_plot(y_test, pred_proba_c1):\n",
    "    precisions, recalls, thresholds = precision_recall_curve(y_test, pred_proba_c1)\n",
    "    \n",
    "    # X축:threshold값, y축:정밀도, 재현율 값으로 각각 plot 수행. 정밀도는 점선으로 표시\n",
    "    plt.figure(figsize=(8,6))\n",
    "    threshold_boundary = thresholds.shape[0]\n",
    "    plt.plot(thresholds, precisions[0:threshold_boundary], linestyle='--', label='precision')\n",
    "    plt.plot(thresholds, recalls[0:threshold_boundary], label='recall')\n",
    "    \n",
    "    #threshold 값 X축의 scale을 0.1단위로 변경\n",
    "    start, end = plt.xlim()\n",
    "    plt.xticks(np.round(np.arange(start, end, 0.1), 2))\n",
    "    \n",
    "    #X축, Y축 label과 legend, 그리고 gird 설정\n",
    "    plt.xlabel('Threshold value'); plt.ylabel('Precision and Recall value')\n",
    "    plt.legend(); plt.grid()\n",
    "    plt.show()\n",
    "    \n",
    "precision_recall_curve_plot(y_test, lr_clf.predict_proba(X_test)[:, 1])"
   ]
  },
  {
   "cell_type": "markdown",
   "metadata": {},
   "source": [
    "로지스틱 회귀 기반의 타이타닉 생존자 예측 모델의 경우, 임계값이 약 0.45 지점에서 재현율과 정밀도가 비슷해지는 것을 확인할 수 있다.\n"
   ]
  },
  {
   "cell_type": "markdown",
   "metadata": {},
   "source": [
    "### 결론 : \n",
    "### 재현율과 정밀도를 어느 한쪽이 커지도록 하면 절대 안된다. 물론 앞서 말했듯 상황에 맞게 어느 한쪽을 살짝 높이는 튜닝을 할 수 있겠지만, 그렇다고 어느 하나만을 강조하도록 임계값을 설정하면 안된다."
   ]
  },
  {
   "cell_type": "markdown",
   "metadata": {},
   "source": [
    "# 3. F1 스코어\n",
    "## : 정밀도와 재현율을 적절히 조합해 분류의 종합적인 성능평가가 가능하도록 해주는 평가 \n",
    "## -> 정밀도와 재현율이 어느한쪽으로 치우치지 않을 때 높은 값이 나오도록 설계됨"
   ]
  },
  {
   "cell_type": "markdown",
   "metadata": {},
   "source": [
    "## - f1_score() API 이용"
   ]
  },
  {
   "cell_type": "code",
   "execution_count": 44,
   "metadata": {},
   "outputs": [
    {
     "name": "stdout",
     "output_type": "stream",
     "text": [
      "F1 스코어 : 0.7571\n"
     ]
    }
   ],
   "source": [
    "from sklearn.metrics import f1_score\n",
    "f1 = f1_score(y_test, pred)\n",
    "print('F1 스코어 : {0:.4f}'.format(f1))"
   ]
  },
  {
   "cell_type": "markdown",
   "metadata": {},
   "source": [
    "## - 임계값에 따라 F1 스코어를 구하기"
   ]
  },
  {
   "cell_type": "code",
   "execution_count": 45,
   "metadata": {},
   "outputs": [
    {
     "name": "stdout",
     "output_type": "stream",
     "text": [
      "<임계값 : 0.4>\n",
      "오차행렬\n",
      "[[86 24]\n",
      " [13 56]]\n",
      "정확도 : 0.7933, 정밀도 : 0.7000, 재현율 : 0.8116, F1스코어 : 0.7517\n",
      "<임계값 : 0.45>\n",
      "오차행렬\n",
      "[[91 19]\n",
      " [14 55]]\n",
      "정확도 : 0.8156, 정밀도 : 0.7432, 재현율 : 0.7971, F1스코어 : 0.7692\n",
      "<임계값 : 0.5>\n",
      "오차행렬\n",
      "[[92 18]\n",
      " [16 53]]\n",
      "정확도 : 0.8101, 정밀도 : 0.7465, 재현율 : 0.7681, F1스코어 : 0.7571\n",
      "<임계값 : 0.55>\n",
      "오차행렬\n",
      "[[98 12]\n",
      " [18 51]]\n",
      "정확도 : 0.8324, 정밀도 : 0.8095, 재현율 : 0.7391, F1스코어 : 0.7727\n",
      "<임계값 : 0.6>\n",
      "오차행렬\n",
      "[[99 11]\n",
      " [25 44]]\n",
      "정확도 : 0.7989, 정밀도 : 0.8000, 재현율 : 0.6377, F1스코어 : 0.7097\n"
     ]
    }
   ],
   "source": [
    "#f1 스코어를 추가하기 위해 재정의\n",
    "def get_clf_eval(y_test, pred):\n",
    "    confusion = confusion_matrix(y_test, pred)\n",
    "    accuracy = accuracy_score(y_test, pred)\n",
    "    precision = precision_score(y_test, pred)\n",
    "    recall = recall_score(y_test, pred)\n",
    "    #f1 스코어를 추가\n",
    "    f1 = f1_score(y_test, pred)\n",
    "    print('오차행렬')\n",
    "    print(confusion)\n",
    "    print('정확도 : {0:.4f}, 정밀도 : {1:.4f}, 재현율 : {2:.4f}, F1스코어 : {3:.4f}'.format(accuracy, precision, recall, f1))\n",
    "    \n",
    "thresholds = [0.4, 0.45, 0.50, 0.55, 0.60]\n",
    "pred_proba = lr_clf.predict_proba(X_test)\n",
    "get_eval_by_threshold(y_test, pred_proba[:, 1].reshape(-1, 1), thresholds)"
   ]
  },
  {
   "cell_type": "markdown",
   "metadata": {},
   "source": [
    "임계값이 0.55까지는 지속적으로 증가하다가 0.6이 됬을 때 크게 감소함을 확인할 수 있다."
   ]
  },
  {
   "cell_type": "markdown",
   "metadata": {},
   "source": [
    "# 4. ROC 곡선과 AUC 스코어"
   ]
  },
  {
   "cell_type": "markdown",
   "metadata": {},
   "source": [
    "## ROC(Receiver Operation Characterisitc Curve)\n",
    " : 머신러닝의 이진 분류 모델의 예측 성능을 판단하는 중요한 평가 지표. <br>\n",
    " FPR과 TPR을 동시에 파악함과 동시에 그래프가 대각선에서부터 얼마나 떨어져있는지(면적이 얼마나 1에 가까운지, AUC)를 보고 분류기의 성능을 알 수 있음. 이때 대각선은 분류기가 의미가 없는 경우를 의미한다. 예를 들어 랜덤으로 0, 1로 예측결과를 내는 경우가 해당한다. 또한 각 그래프 위에서의 점의 위치는 서로 다른 임계값에서의 FPR, TPR 값을 의미한다."
   ]
  },
  {
   "cell_type": "markdown",
   "metadata": {},
   "source": [
    "## - roc_curve() API를 이용해 구하기"
   ]
  },
  {
   "cell_type": "code",
   "execution_count": 46,
   "metadata": {},
   "outputs": [
    {
     "name": "stdout",
     "output_type": "stream",
     "text": [
      "샘플 추출한 임계값 배열의 인덱스 11개 :  [ 1  6 11 16 21 26 31 36 41 46 51]\n",
      "샘플용 11개의 임계값 :  [0.97 0.7  0.63 0.58 0.42 0.32 0.23 0.16 0.12 0.11 0.07]\n",
      "샘플 임계값별 FPR :  [0.   0.05 0.08 0.1  0.21 0.25 0.35 0.46 0.68 0.78 0.93]\n",
      "샘플 임계값별 TPR :  [0.01 0.54 0.57 0.7  0.8  0.86 0.88 0.93 0.93 0.94 0.97]\n"
     ]
    }
   ],
   "source": [
    "from sklearn.metrics import roc_curve\n",
    "\n",
    "pred_proba_class1 = lr_clf.predict_proba(X_test)[:, 1]\n",
    "\n",
    "fprs, tprs, thresholds = roc_curve(y_test, pred_proba_class1)\n",
    "\n",
    "#임계값의 개수가 56개이므로 임계값은 5씩 차이 나도록 설정하여 샘플로 11개를 추출한다.\n",
    "# 주의! thresholds[0]은 max(예측확률)+1로 자동설정되므로 이를 제외하고자, 인덱스를 1부터 시작함\n",
    "thr_index = np.arange(1, thresholds.shape[0], 5)\n",
    "print('샘플 추출한 임계값 배열의 인덱스 11개 : ', thr_index)\n",
    "print('샘플용 11개의 임계값 : ', np.round(thresholds[thr_index], 2))\n",
    "\n",
    "print('샘플 임계값별 FPR : ', np.around(fprs[thr_index], 2))\n",
    "print('샘플 임계값별 TPR : ', np.around(tprs[thr_index], 2))"
   ]
  },
  {
   "cell_type": "markdown",
   "metadata": {},
   "source": [
    "임계값이 1에 가까울 수록 FPR이 줄고, 0에 가까울 수록 FPR이 증가함을 알 수 있다. 그리고 임계값이 1에서 멀어질 때, FPR의 증가량보다 TPR의 증가량이 큰것으로 보아 대각선에서 꽤 멀어지는 곡선을 보임을 생각할 수 있다."
   ]
  },
  {
   "cell_type": "markdown",
   "metadata": {},
   "source": [
    "### *시각화"
   ]
  },
  {
   "cell_type": "code",
   "execution_count": 47,
   "metadata": {},
   "outputs": [
    {
     "data": {
      "image/png": "[encoded data removed]",
      "text/plain": [
       "<Figure size 432x288 with 1 Axes>"
      ]
     },
     "metadata": {
      "needs_background": "light"
     },
     "output_type": "display_data"
    }
   ],
   "source": [
    "def roc_curve_plot(y_test, pred_proba_c1):\n",
    "    fprs, tprs, thresholds = roc_curve(y_test, pred_proba_c1)\n",
    "    #x축, y축을 fprs, tprs로 설정하고 해당 곡선은 ROC로 명명함.\n",
    "    plt.plot(fprs, tprs, label='ROC')\n",
    "    #대각선에 선을 그음\n",
    "    plt.plot([0,1],[0,1],'k--', label='Random')\n",
    "    \n",
    "    #FPR (x축)의 스케일을 0.1단위로 변경, x, y 축 명 설정 등\n",
    "    start, end = plt.xlim()\n",
    "    plt.xticks(np.around(np.arange(start, end, 0.1), 2))\n",
    "    plt.xlim(0, 1); plt.ylim(0, 1)\n",
    "    plt.xlabel('FPR( 1 - Sensitivity)'); plt.ylabel('TPR( Recall )')\n",
    "    plt.legend()\n",
    "    \n",
    "roc_curve_plot(y_test, pred_proba[:, 1])"
   ]
  },
  {
   "cell_type": "markdown",
   "metadata": {},
   "source": [
    "### * get_clf_eval 함수에 roc_auc 스코어 추가하기 위해 재정의"
   ]
  },
  {
   "cell_type": "code",
   "execution_count": 49,
   "metadata": {},
   "outputs": [
    {
     "name": "stdout",
     "output_type": "stream",
     "text": [
      "오차행렬\n",
      "[[92 18]\n",
      " [16 53]]\n",
      "정확도 : 0.8101, 정밀도 : 0.7465, 재현율 : 0.7681, F1스코어 : 0.7571, AUC : 0.8702\n"
     ]
    }
   ],
   "source": [
    "from sklearn.metrics import roc_auc_score\n",
    "\n",
    "def get_clf_eval(y_test, pred=None, pred_proba=None):\n",
    "    confusion = confusion_matrix(y_test, pred)\n",
    "    accuracy = accuracy_score(y_test, pred)\n",
    "    precision = precision_score(y_test, pred)\n",
    "    recall = recall_score(y_test, pred)\n",
    "    #f1 스코어를 추가\n",
    "    f1 = f1_score(y_test, pred)\n",
    "    #ROC-AUC 추가\n",
    "    roc_auc = roc_auc_score(y_test, pred_proba)\n",
    "    print('오차행렬')\n",
    "    print(confusion)\n",
    "    print('정확도 : {0:.4f}, 정밀도 : {1:.4f}, 재현율 : {2:.4f}, F1스코어 : {3:.4f}, AUC : {4:.4f}'.format(accuracy, precision, recall, f1, roc_auc))\n",
    "    \n",
    "get_clf_eval(y_test, pred, pred_proba[:, 1])"
   ]
  },
  {
   "cell_type": "code",
   "execution_count": null,
   "metadata": {},
   "outputs": [],
   "source": []
  }
 ],
 "metadata": {
  "kernelspec": {
   "display_name": "Python 3",
   "language": "python",
   "name": "python3"
  },
  "language_info": {
   "codemirror_mode": {
    "name": "ipython",
    "version": 3
   },
   "file_extension": ".py",
   "mimetype": "text/x-python",
   "name": "python",
   "nbconvert_exporter": "python",
   "pygments_lexer": "ipython3",
   "version": "3.7.4"
  }
 },
 "nbformat": 4,
 "nbformat_minor": 4
}
